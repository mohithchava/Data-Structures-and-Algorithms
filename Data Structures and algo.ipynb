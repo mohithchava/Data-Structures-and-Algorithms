{
 "cells": [
  {
   "cell_type": "markdown",
   "id": "6d8be6ef-4c27-41b6-8d6c-f62243644ee5",
   "metadata": {},
   "source": [
    "<h1>Data Structures and algorithms basics:</h1>"
   ]
  },
  {
   "cell_type": "markdown",
   "id": "09f2e72d-88bc-49f0-bbfd-289f8dc42f9b",
   "metadata": {},
   "source": [
    "<h1>Arrays:</h1>\n",
    "It is a collection of stored items present at contigupus memory location"
   ]
  },
  {
   "cell_type": "markdown",
   "id": "bd69366a-7899-4749-a99a-b6becdad2ebc",
   "metadata": {
    "slideshow": {
     "slide_type": "notes"
    },
    "tags": []
   },
   "source": [
    "Array rotation: When a arr[] a of size N is given along with integer k the idea is to shift the array to the left by k positions\n",
    "\n",
    "Example : arr = [5,8,9,4,52,1,0] k=3   ans: [4,52,1,0,5,8,9]\n",
    "\n",
    "<span style=\"color:Green\">Approach:</span>\n",
    "\n",
    "1. Create an empty temperory array\n",
    "2. move the elements k - n-1 into the temp array\n",
    "3. move the first k elements to temp array \n",
    "4. copy temp array to original array\n"
   ]
  },
  {
   "cell_type": "code",
   "execution_count": 119,
   "id": "4c20834c-9fc9-4088-af48-42f277580e64",
   "metadata": {},
   "outputs": [],
   "source": [
    "# Now lets write the code for above approach\n",
    "def rotate_array(arr, k): #func definition to take arr and integer as input\n",
    "    if arr == []:\n",
    "        print(\"Your Input array is empty\")\n",
    "        return\n",
    "    elif len(arr)< k: # checks weather the input integer is greater than len(array) if yes prints integer is greater\n",
    "        print(\"your input integer\",k,\"is greater than length of the list which is:\", len(arr))\n",
    "        return\n",
    "       \n",
    "    else:\n",
    "        temp_arr = arr[k:] + arr[0:k]\n",
    "        rotated_array = temp_arr\n",
    "        print(\"Rotated array is\", rotated_array)\n",
    "        return\n"
   ]
  },
  {
   "cell_type": "markdown",
   "id": "378e2426-41a3-4cb6-b505-6a3f99cf118f",
   "metadata": {},
   "source": [
    "<span style=\"color:Red\">Test cases:</span>"
   ]
  },
  {
   "cell_type": "code",
   "execution_count": 62,
   "id": "03cfb8f1-a200-4443-a0bc-354e94b7d9c8",
   "metadata": {},
   "outputs": [
    {
     "name": "stdout",
     "output_type": "stream",
     "text": [
      "Rotated array is [4, 52, 1, 0, 5, 8, 9]\n",
      "Rotated array is [3, 4, 5, 6, 7, 1, 2]\n",
      "Rotated array is [5, 6, 7, 1, 2, 3, 4]\n",
      "Your Input array is empty\n",
      "your input integer 8 is greater than length of the list which is: 7\n"
     ]
    }
   ],
   "source": [
    "rotate_array( [5,8,9,4,52,1,0], 3)\n",
    "rotate_array([1, 2, 3, 4, 5, 6, 7],2)\n",
    "rotate_array([3, 4, 5, 6, 7, 1, 2],2)\n",
    "rotate_array([],1)\n",
    "rotate_array( [5,8,9,4,52,1,0], 8)\n"
   ]
  },
  {
   "cell_type": "markdown",
   "id": "caf42299-9cee-4f3f-9a78-6f8d5e5e7787",
   "metadata": {},
   "source": [
    "Rotating an array using reversal algorithm:\n",
    "If you closely observe you can find that the first k elements and rest n-k elements move like blocks.\n",
    "<span style=\"color:Green\">Approach:</span>\n",
    "1. reverse the first k elements\n",
    "2. revrse the len(array)-k elements\n",
    "3. reverse the whole array"
   ]
  },
  {
   "cell_type": "code",
   "execution_count": 86,
   "id": "5078c493-557c-47c6-a420-56b044137a5f",
   "metadata": {},
   "outputs": [],
   "source": [
    "#now lets write the code for above approach\n",
    "def rotate_array_reversal(arr,k):\n",
    "        split_1 = arr[:k]   #split till k\n",
    "        split_1 = split_1[::-1] #reverse\n",
    "        split_2 = arr[k:]   #split from k till end\n",
    "        split_2 = split_2[::-1] #reverse\n",
    "        temp = split_1+split_2 #join both the reversed arrays\n",
    "        temp = temp[::-1] #reverse whole array\n",
    "        print(\"Rotated array is\", temp)\n",
    "        return "
   ]
  },
  {
   "cell_type": "code",
   "execution_count": 144,
   "id": "648ba0c0-aecb-4a1d-a676-f6be7e591e12",
   "metadata": {},
   "outputs": [
    {
     "name": "stdout",
     "output_type": "stream",
     "text": [
      "Rotated array is [4, 52, 1, 0, 5, 8, 9]\n",
      "Rotated array is [3, 4, 5, 6, 7, 1, 2]\n",
      "Rotated array is [5, 6, 7, 1, 2, 3, 4]\n",
      "Rotated array is []\n",
      "Rotated array is [5, 8, 9, 4, 52, 1, 0]\n",
      "Rotated array is [3, 1, 2, 8]\n"
     ]
    }
   ],
   "source": [
    "rotate_array_reversal( [5,8,9,4,52,1,0], 3)\n",
    "rotate_array_reversal([1, 2, 3, 4, 5, 6, 7],2)\n",
    "rotate_array_reversal([3, 4, 5, 6, 7, 1, 2],2)\n",
    "rotate_array_reversal([],1)\n",
    "rotate_array_reversal( [5,8,9,4,52,1,0], 8)"
   ]
  },
  {
   "cell_type": "markdown",
   "id": "c82269ac-7a10-4605-bcba-10e6af07d5d4",
   "metadata": {},
   "source": [
    "Example: Rotate an Array by 1 till the array is revrsed and find out max sum of elements out of the list of rotated arrays"
   ]
  },
  {
   "cell_type": "code",
   "execution_count": 117,
   "id": "7dff6d1d-991e-46ec-a2a8-16a607c30ef0",
   "metadata": {},
   "outputs": [],
   "source": [
    "\n",
    "\n",
    "rotations = []\n",
    "list_of_sum_elements = []\n",
    "array = []\n",
    "\n",
    "\n",
    "\n",
    "def max_sum_all_rotations(arr,k=1):\n",
    "    array = arr\n",
    "    #j=0\n",
    "    sum_elements = 0\n",
    "\n",
    "\n",
    "\n",
    "    rotations.append(arr)\n",
    "    \n",
    "    for i in range(len(array)-1):\n",
    "            split_1 = array[:k]   #split till k\n",
    "            split_2 = array[k:]   #split from k till end\n",
    "            split_2 = split_2[::-1] #reverse\n",
    "            temp = split_1+split_2 #join both the reversed arrays\n",
    "            temp = temp[::-1] #reverse whole array\n",
    "            array = temp\n",
    "            rotations.append(temp)\n",
    "    \n",
    "    \n",
    "    for element in rotations:\n",
    "        for i in range(len(element)):\n",
    "            sum_elements += i*element[i]\n",
    "            i+= 1\n",
    "        list_of_sum_elements.append(sum_elements)\n",
    "    return  print(\"list_of_rotated_arrays: \"+str(rotations)+\"\\nmax sum of elements: \" + str(max(list_of_sum_elements)))\n",
    "\n",
    "\n"
   ]
  },
  {
   "cell_type": "code",
   "execution_count": 118,
   "id": "da7ce2cd-bdbd-4475-9739-345491ed608b",
   "metadata": {},
   "outputs": [
    {
     "name": "stdout",
     "output_type": "stream",
     "text": [
      "list_of_rotated_arrays: [[8, 3, 1, 2], [3, 1, 2, 8], [1, 2, 8, 3], [2, 8, 3, 1]]\n",
      "max sum of elements: 84\n"
     ]
    }
   ],
   "source": [
    "max_sum_all_rotations([8,3,1,2])"
   ]
  },
  {
   "cell_type": "markdown",
   "id": "139472f6-d868-4313-8027-72f46491193d",
   "metadata": {},
   "source": [
    "<p style= 'color: red'>Question:<\\p>\n"
   ]
  },
  {
   "cell_type": "markdown",
   "id": "d6c879f3-1d5b-4fc8-b363-308ca27d07c7",
   "metadata": {},
   "source": [
    "Given an array of elements move all the zeroes to end of the array "
   ]
  },
  {
   "cell_type": "markdown",
   "id": "ffa5c6cb-6e91-43fb-93c2-cf618ff4273a",
   "metadata": {},
   "source": [
    "sample array : [9,7,3,0,7,0,0,8,3,0,3,5,5,0]       sample output: [9,7,3,7,8,3,3,5,5,0,0,0,0,0]\n"
   ]
  },
  {
   "cell_type": "markdown",
   "id": "b4ace5d2-1b8d-4bba-95f7-0e84acec4be9",
   "metadata": {},
   "source": [
    "Approach:\n",
    "\n",
    "\n",
    "1.traverse the list from left to right and count the non-zero digits \n",
    "\n",
    "\n",
    "2.swap the possition of the digit with the digit in position of count\n",
    "\n",
    "3.you will have a shifted list with zero's in the end "
   ]
  },
  {
   "cell_type": "code",
   "execution_count": 198,
   "id": "549ad222-8ba8-442f-a451-cfe7a4761162",
   "metadata": {},
   "outputs": [],
   "source": [
    "def move_zeroes(arr):\n",
    "    count = 0\n",
    "    for i in range(len(arr)):\n",
    "        if arr[i] != 0:\n",
    "            temp = arr[count]\n",
    "            arr[count] = arr[i]\n",
    "            arr[i]=temp\n",
    "            count+=1\n",
    "    return print(\"Total non_zero elements: \"+str(count)+\"\\nFinal Array:\"+str(arr))\n",
    "    \n",
    "    "
   ]
  },
  {
   "cell_type": "code",
   "execution_count": 199,
   "id": "f90bdd91-7bf4-4c9c-858e-20f7f01a98f7",
   "metadata": {},
   "outputs": [
    {
     "name": "stdout",
     "output_type": "stream",
     "text": [
      "Total non_zero elements: 9\n",
      "Final Array:[9, 7, 3, 7, 8, 3, 3, 5, 5, 0, 0, 0, 0, 0]\n"
     ]
    }
   ],
   "source": [
    "move_zeroes([9,7,3,0,7,0,0,8,3,0,3,5,5,0])\n"
   ]
  },
  {
   "cell_type": "markdown",
   "id": "f8cb01c4-c0b6-43c8-ad35-a684b20f7d8b",
   "metadata": {},
   "source": [
    "<p style= 'color: red'>Question:<\\p>\n",
    "\n"
   ]
  },
  {
   "cell_type": "markdown",
   "id": "4ce46a41-1628-4a30-98ae-a5557c6fe2cb",
   "metadata": {},
   "source": [
    "Given an array restructure the array such that even positioned numbers are greater than the odd positioned numbers "
   ]
  },
  {
   "cell_type": "raw",
   "id": "80f6166b-f5df-42bb-a882-3097361c46b2",
   "metadata": {},
   "source": [
    "sample array: [1,2,2,1]   output array: [1,2,1,2]"
   ]
  },
  {
   "cell_type": "markdown",
   "id": "e9c27afe-c98b-4bff-aa8d-f261bde5f30b",
   "metadata": {},
   "source": [
    "Approach: \n",
    "1. Sort the array in decending order\n",
    "2. assign 1st half of the new sorted array to even positions\n",
    "3. assign 2nd half of the new sorted array to odd positions "
   ]
  },
  {
   "cell_type": "code",
   "execution_count": 2,
   "id": "5f3a3cf2-0ceb-409a-930c-f588e637e717",
   "metadata": {},
   "outputs": [],
   "source": [
    "def rearrange_array(n):\n",
    "    sorted_array = []\n",
    "    sorted_array = sorted(n)\n",
    "    j=0\n",
    "    k= len(n)-1\n",
    "    for i in range(len(n)):\n",
    "        if (i+1)%2 == 0:\n",
    "            n[i]= sorted_array[k]\n",
    "            k -= 1\n",
    "        \n",
    "        else:\n",
    "            n[i]= sorted_array[j]\n",
    "            j+=1\n",
    "            \n",
    "        \n",
    "            \n",
    "    \n",
    "    return print(\"Sorted array: \"+ str(sorted_array)+ \"\\nRestructured Array: \"+str(n))\n"
   ]
  },
  {
   "cell_type": "code",
   "execution_count": 3,
   "id": "9bdff15c-802e-4c18-9274-885d59fbc55d",
   "metadata": {},
   "outputs": [
    {
     "name": "stdout",
     "output_type": "stream",
     "text": [
      "Sorted array: [1, 2, 3, 5, 7, 8, 44]\n",
      "Restructured Array: [1, 44, 2, 8, 3, 7, 5]\n"
     ]
    }
   ],
   "source": [
    "rearrange_array([1,8,7,2,3,44,5])"
   ]
  },
  {
   "cell_type": "markdown",
   "id": "99fbda34-200e-4923-9906-75406be8f13c",
   "metadata": {},
   "source": [
    "<p style= 'color: red'>Question:<\\p>"
   ]
  },
  {
   "cell_type": "markdown",
   "id": "ffed6b1d-937c-4505-a376-046e14333617",
   "metadata": {},
   "source": [
    "Rearrange an array in maximum minimum form using Two Pointer Technique"
   ]
  },
  {
   "cell_type": "markdown",
   "id": "98459a77-e92f-4d93-b4a4-497001d0f334",
   "metadata": {},
   "source": [
    "sample array: [1,2,2,1]   output array: [2,1,2,1]\n",
    "Approach: \n",
    "1. Sort the array \n",
    "2. assign 2nd half of the new sorted array to odd positions from right to left\n",
    "3. assign 1st half of the new sorted array to even positions from left to right"
   ]
  },
  {
   "cell_type": "code",
   "execution_count": 4,
   "id": "e58405c1-5caf-41dc-95e2-a25b11db27bd",
   "metadata": {},
   "outputs": [],
   "source": [
    "def min_max_rear(n):\n",
    "    sorted_array = []\n",
    "    sorted_array = sorted(n)\n",
    "    j=0\n",
    "    k= len(n)-1\n",
    "    for i in range(len(n)):\n",
    "        if (i+1)%2 != 0:\n",
    "            n[i]= sorted_array[k]\n",
    "            k -= 1\n",
    "        \n",
    "        else:\n",
    "            n[i]= sorted_array[j]\n",
    "            j+=1\n",
    "            \n",
    "        \n",
    "            \n",
    "    \n",
    "    return print(\"Sorted array: \"+ str(sorted_array)+ \"\\nMin_Max Array: \"+str(n))\n",
    "\n"
   ]
  },
  {
   "cell_type": "code",
   "execution_count": 5,
   "id": "7cfc3411-a755-4005-a518-3b824d86074d",
   "metadata": {},
   "outputs": [
    {
     "name": "stdout",
     "output_type": "stream",
     "text": [
      "Sorted array: [1, 2, 3, 4, 5, 6, 7]\n",
      "Min_Max Array: [7, 1, 6, 2, 5, 3, 4]\n"
     ]
    }
   ],
   "source": [
    "min_max_rear([1, 2, 3, 4, 5, 6, 7])"
   ]
  },
  {
   "cell_type": "markdown",
   "id": "a99df4b6-acaa-48cd-aa22-59f86d9057d0",
   "metadata": {},
   "source": [
    "<p style= 'color: red'>Question:<\\p>"
   ]
  },
  {
   "cell_type": "markdown",
   "id": "8dddde84-b229-4b5a-8a40-35da2a890b2b",
   "metadata": {},
   "source": [
    "Segregate even and odd numbers"
   ]
  },
  {
   "cell_type": "markdown",
   "id": "ccf607ff-7030-4170-86b8-e7a61b9437da",
   "metadata": {},
   "source": [
    "Sample Array : [1, 9, 5, 3, 2, 6, 7, 11]       output array : [2 6 5 3 1 9 7 11]\n",
    "Approach: \n",
    "\n",
    "1.create an empty list\n",
    "\n",
    "2.traverse through the input list from right to left and check weather a number is even arr[i]%2 == 0\n",
    "\n",
    "3.Append even numbers to start of the empty list \n",
    "\n",
    "4.Append odd numbers towards the end of the empty list"
   ]
  },
  {
   "cell_type": "code",
   "execution_count": 6,
   "id": "2f8d5013-bdb5-4cbe-bb45-525bdb9f326b",
   "metadata": {},
   "outputs": [],
   "source": [
    "def segregate(n):\n",
    "    seper_array = []\n",
    "    \n",
    "    for i in range(len(n)):\n",
    "        if n[i]%2 == 0:\n",
    "            seper_array.append(n[i])\n",
    "            \n",
    "    for i in range(len(n)):\n",
    "        if n[i]%2 != 0:\n",
    "            seper_array.append(n[i])\n",
    "        \n",
    "    return seper_array\n",
    "            \n",
    "            "
   ]
  },
  {
   "cell_type": "code",
   "execution_count": 7,
   "id": "2cca3f00-338e-485a-806a-c032b99462d2",
   "metadata": {},
   "outputs": [
    {
     "data": {
      "text/plain": [
       "[2, 6, 4, 8, 550, 1, 9, 5, 3, 7, 11, 449]"
      ]
     },
     "execution_count": 7,
     "metadata": {},
     "output_type": "execute_result"
    }
   ],
   "source": [
    "segregate([1, 9, 5, 3, 2, 6,4,8, 7, 11,449,550])"
   ]
  },
  {
   "cell_type": "markdown",
   "id": "d51253dd-d5b0-4dc6-a102-73f17ac11570",
   "metadata": {},
   "source": [
    "<p style= 'color: red'>Question:<\\p>"
   ]
  },
  {
   "cell_type": "markdown",
   "id": "9c5ed96d-9743-4e88-9665-fd0e31356b82",
   "metadata": {},
   "source": [
    "Find largest three distinct numbers in an Array"
   ]
  },
  {
   "cell_type": "markdown",
   "id": "f9b6d579-9689-4039-a058-a820d46fa461",
   "metadata": {},
   "source": [
    "Approach:\n",
    "1. Initialize three largest numbers to -inf \n",
    "2. iterate through the list swap numbers by comparing as you go by "
   ]
  },
  {
   "cell_type": "code",
   "execution_count": 43,
   "id": "6cb2e858-d0e6-44b8-84e7-f57298722b5c",
   "metadata": {},
   "outputs": [],
   "source": [
    "def Three_large_numbers(arr):\n",
    "    first_largest= second_largest = third_largest = float('-inf')\n",
    "    for i in range(len(arr)):\n",
    "        if (arr[i] > first_largest):\n",
    "            third_largest = second_largest\n",
    "            second_largest = first_largest\n",
    "            first_largest = arr[i]\n",
    "        elif (arr[i] > second_largest):\n",
    "            third_largest = second_largest\n",
    "            second_largest = arr[i]\n",
    "        elif (arr[i] > third_largest ):\n",
    "            arr[i] = third_largest\n",
    "    return first_largest, second_largest, third_largest"
   ]
  },
  {
   "cell_type": "code",
   "execution_count": 44,
   "id": "4828c02d-43e2-4835-8686-84bb929eae31",
   "metadata": {},
   "outputs": [
    {
     "data": {
      "text/plain": [
       "(90, 50, 23)"
      ]
     },
     "execution_count": 44,
     "metadata": {},
     "output_type": "execute_result"
    }
   ],
   "source": [
    "Three_large_numbers([10, 4, 3, 50, 23, 90])"
   ]
  },
  {
   "cell_type": "markdown",
   "id": "2b2a9034-9341-4cf6-9e3a-7b60f57ab498",
   "metadata": {},
   "source": [
    "<p style= 'color: red'>Question:<\\p>"
   ]
  },
  {
   "cell_type": "markdown",
   "id": "d74790ac-7c73-4f67-a6d2-e100b3ca6d3d",
   "metadata": {},
   "source": [
    "Find the second largest number in an array"
   ]
  },
  {
   "cell_type": "markdown",
   "id": "951de7f9-46ec-47cd-86f1-bdc6e54600ff",
   "metadata": {},
   "source": [
    "Approach:\n",
    "1. initialize two variables first_largest, second_largest to -inf\n",
    "2. Iterate through the list and keep swapping largest number with first largest with second largest and first largest with largest number\n",
    "3. return second largest"
   ]
  },
  {
   "cell_type": "code",
   "execution_count": 45,
   "id": "c4d02448-c3df-48a2-8443-ac155b14e25c",
   "metadata": {},
   "outputs": [],
   "source": [
    "def Second_largest(arr):\n",
    "    first_largest= second_largest  = float('-inf')\n",
    "    for i in range(len(arr)):\n",
    "        if (arr[i] > first_largest):\n",
    "            second_largest = first_largest\n",
    "            first_largest = arr[i]\n",
    "        elif (arr[i] > second_largest):\n",
    "            second_largest = arr[i]\n",
    "    return second_largest"
   ]
  },
  {
   "cell_type": "code",
   "execution_count": 46,
   "id": "c11a5e80-eb25-433d-9165-b6350c186a72",
   "metadata": {},
   "outputs": [
    {
     "data": {
      "text/plain": [
       "50"
      ]
     },
     "execution_count": 46,
     "metadata": {},
     "output_type": "execute_result"
    }
   ],
   "source": [
    "Second_largest([10, 4, 3, 50, 23, 90])"
   ]
  },
  {
   "cell_type": "markdown",
   "id": "2c0e3b23-46af-4b67-8985-6487e64edd1a",
   "metadata": {},
   "source": [
    "<p style= 'color: red'>Question:<\\p>"
   ]
  },
  {
   "cell_type": "markdown",
   "id": "fbfe0c94-d1f7-4848-8be7-86daaeb82bb0",
   "metadata": {},
   "source": [
    "Sort an array in wave form \n",
    "\n",
    "input : {10, 5, 6, 3, 2, 20, 100, 80}    output: {10, 5, 6, 2, 20, 3, 100, 80}\n",
    "\n",
    "\n",
    "Condition: arr[0] >= arr[1] <= arr[2] >= arr[3] <= arr[4] >=........."
   ]
  },
  {
   "cell_type": "markdown",
   "id": "c7738b9f-373b-4cce-927d-9d022b2c85fe",
   "metadata": {},
   "source": [
    "Approach: \n",
    "1. sort the array  \n",
    "2. swap the adjacent numbers alternately"
   ]
  },
  {
   "cell_type": "code",
   "execution_count": 119,
   "id": "18cf02bc-95ae-4dcb-9fd7-c3ecebaad605",
   "metadata": {},
   "outputs": [],
   "source": [
    "def sort_wave(arr):\n",
    "    sorted_array = sorted(arr)\n",
    "    n = len(arr)\n",
    "    for i in range(0, n-1, 2):\n",
    "        sorted_array[i], sorted_array[i+1] = sorted_array[i+1], sorted_array[i]\n",
    "    return sorted_array"
   ]
  },
  {
   "cell_type": "code",
   "execution_count": 120,
   "id": "9f9807bd-d261-4c61-8269-2a9aaf9f1712",
   "metadata": {},
   "outputs": [
    {
     "data": {
      "text/plain": [
       "[2, 1, 10, 5, 49, 23, 90]"
      ]
     },
     "execution_count": 120,
     "metadata": {},
     "output_type": "execute_result"
    }
   ],
   "source": [
    "sort_wave([10, 90, 49, 2, 1, 5, 23])"
   ]
  },
  {
   "cell_type": "markdown",
   "id": "d143f60f-8501-4ab9-aad0-e44df81d2356",
   "metadata": {},
   "source": [
    "<p style= 'color: red'>Question:<\\p>"
   ]
  },
  {
   "cell_type": "markdown",
   "id": "132e1e39-9a3f-440c-9f77-b781392dec68",
   "metadata": {},
   "source": [
    "Count the number of possible triangles"
   ]
  },
  {
   "cell_type": "markdown",
   "id": "ab512151-d0bb-41c2-9539-d6e01578b7f0",
   "metadata": {},
   "source": [
    "Input: arr= {4, 6, 3, 7}   output: 3  triangles: {3, 4, 6}, {4, 6, 7} and {3, 6, 7}"
   ]
  },
  {
   "cell_type": "markdown",
   "id": "167f1aa2-3ac3-462f-a054-ecf0bec1e8e6",
   "metadata": {},
   "source": [
    "Approach:\n",
    "1.Sort the array in accending order\n",
    "\n",
    "2.iterate through the list and fix your first element i and an innerloop  from i+1 for second side \n",
    "\n",
    "3.k+2 will be your third side find the largest element in array[k] and k-j will be count of third side and it to the total count.\n"
   ]
  },
  {
   "cell_type": "code",
   "execution_count": 133,
   "id": "66e577e2-6e45-4610-8877-2b87725c3dde",
   "metadata": {},
   "outputs": [],
   "source": [
    "def count_triangles(arr):\n",
    "    arr.sort() # sorts the array in accending order\n",
    "    count = 0 # initializing counter to 0 which counts no.of triangles\n",
    "    for i in range(len(arr)-2): # loops through the array and determines first side \n",
    "        k= i+2 # initializing i+2 as third side\n",
    "        for j in range(i+1, len(arr)-1): # loops through i+1 to end of array \n",
    "            while(k<(len(arr)) and arr[i]+arr[j]> arr[k]):# checks to satisfy condition for triangle \n",
    "                k+=1\n",
    "            if k>j:\n",
    "                count += k-j-1 #gives the actual count of since k is initialized as j+1\n",
    "                \n",
    "    return count\n",
    "                \n",
    "                "
   ]
  },
  {
   "cell_type": "code",
   "execution_count": 134,
   "id": "e417d86f-1a40-4230-be83-b508d82d30b0",
   "metadata": {},
   "outputs": [
    {
     "data": {
      "text/plain": [
       "6"
      ]
     },
     "execution_count": 134,
     "metadata": {},
     "output_type": "execute_result"
    }
   ],
   "source": [
    "count_triangles([10, 21, 22, 100, 101, 200, 300])"
   ]
  },
  {
   "cell_type": "code",
   "execution_count": null,
   "id": "887ffae1-ce0c-47ce-9cd0-b93ffee91f75",
   "metadata": {},
   "outputs": [],
   "source": []
  }
 ],
 "metadata": {
  "kernelspec": {
   "display_name": "Python 3",
   "language": "python",
   "name": "python3"
  },
  "language_info": {
   "codemirror_mode": {
    "name": "ipython",
    "version": 3
   },
   "file_extension": ".py",
   "mimetype": "text/x-python",
   "name": "python",
   "nbconvert_exporter": "python",
   "pygments_lexer": "ipython3",
   "version": "3.8.8"
  },
  "toc-autonumbering": true,
  "toc-showcode": true,
  "toc-showmarkdowntxt": true,
  "toc-showtags": false
 },
 "nbformat": 4,
 "nbformat_minor": 5
}
