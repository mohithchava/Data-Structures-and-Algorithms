{
 "cells": [
  {
   "cell_type": "markdown",
   "id": "6d8be6ef-4c27-41b6-8d6c-f62243644ee5",
   "metadata": {},
   "source": [
    "<h1>Data Structures and algorithms basics:</h1>"
   ]
  },
  {
   "cell_type": "markdown",
   "id": "5400d508-8d15-4180-bf77-eb7625aac1a1",
   "metadata": {},
   "source": [
    "<p>Arrays:</p>\n",
    "It is a collection of stored items present at contigupus memory location"
   ]
  },
  {
   "cell_type": "markdown",
   "id": "bd69366a-7899-4749-a99a-b6becdad2ebc",
   "metadata": {
    "slideshow": {
     "slide_type": "notes"
    },
    "tags": []
   },
   "source": [
    "Array rotation: When a arr[] a of size N is given along with integer k the idea is to shift the array to the left by k positions\n",
    "\n",
    "Example : arr = [5,8,9,4,52,1,0] k=3   ans: [4,52,1,0,5,8,9]\n",
    "\n",
    "Approach : \n",
    "1. Create an empty temperory array\n",
    "2. move the elements k - n-1 into the temp array\n",
    "3. move the first k elements to temp array \n",
    "4. copy temp array to original array"
   ]
  },
  {
   "cell_type": "code",
   "execution_count": 55,
   "id": "4c20834c-9fc9-4088-af48-42f277580e64",
   "metadata": {},
   "outputs": [],
   "source": [
    "# Now lets write the code for above approach\n",
    "def rotate_array(arr, k): #func definition to take arr and integer as input\n",
    "    if arr == []:\n",
    "        print(\"Your Input array is empty\")\n",
    "        return\n",
    "    elif len(arr)< k:\n",
    "        print(\"your input integer\",k,\"is greater than length of the list which is:\", len(arr))\n",
    "        return\n",
    "       \n",
    "    else:\n",
    "        temp_arr = [arr[k:] + arr[0:k]]\n",
    "        rotated_array = temp_arr\n",
    "        print(\"Rotated array is\", rotated_array)\n",
    "        return\n"
   ]
  },
  {
   "cell_type": "markdown",
   "id": "378e2426-41a3-4cb6-b505-6a3f99cf118f",
   "metadata": {},
   "source": [
    "<span style=\"color:Red\">Test cases:</span>"
   ]
  },
  {
   "cell_type": "code",
   "execution_count": 54,
   "id": "03cfb8f1-a200-4443-a0bc-354e94b7d9c8",
   "metadata": {},
   "outputs": [
    {
     "name": "stdout",
     "output_type": "stream",
     "text": [
      "Rotated array is [[4, 52, 1, 0, 5, 8, 9]]\n",
      "Rotated array is [[3, 4, 5, 6, 7, 1, 2]]\n",
      "Rotated array is [[5, 6, 7, 1, 2, 3, 4]]\n",
      "Your Input array is empty\n",
      "your input integer 8 is greater than length of the list which is: 7\n"
     ]
    }
   ],
   "source": [
    "rotate_array( [5,8,9,4,52,1,0], 3)\n",
    "rotate_array([1, 2, 3, 4, 5, 6, 7],2)\n",
    "rotate_array([3, 4, 5, 6, 7, 1, 2],2)\n",
    "rotate_array([],1)\n",
    "rotate_array( [5,8,9,4,52,1,0], 8)\n",
    "rotate_array(5 2\n"
   ]
  },
  {
   "cell_type": "markdown",
   "id": "16fe61c1-3f92-43a6-9b1d-469a113db40b",
   "metadata": {},
   "source": [
    " rercursion : Recursion is when a function calls itself to perform a certain task."
   ]
  },
  {
   "cell_type": "markdown",
   "id": "e803fd6e-c5ab-4bf8-b5f7-3af707ccf02a",
   "metadata": {},
   "source": [
    "a factorial function can be be done recursively example below:"
   ]
  },
  {
   "cell_type": "code",
   "execution_count": 2,
   "id": "2f1ace15-797e-4309-8add-2112244ba90a",
   "metadata": {},
   "outputs": [],
   "source": [
    "def factorial(n): #defining a function that takes input n\n",
    "    if n==0: #statement check if input is 0 and returns 1 this will be our base case\n",
    "        return 1;\n",
    "    else:\n",
    "        return n* factorial(n-1);#recursive call to the function itself until it converges at base case"
   ]
  },
  {
   "cell_type": "code",
   "execution_count": 3,
   "id": "8d4fa15f-f957-4827-94de-7ef76917cf6d",
   "metadata": {},
   "outputs": [
    {
     "data": {
      "text/plain": [
       "720"
      ]
     },
     "execution_count": 3,
     "metadata": {},
     "output_type": "execute_result"
    }
   ],
   "source": [
    "factorial(6)"
   ]
  },
  {
   "cell_type": "raw",
   "id": "88cf7510-9c3f-43f7-ada4-88e24ffd7597",
   "metadata": {},
   "source": [
    "Drawbacks:\n",
    "1.each recursive step requires extra space on the stackframe\n",
    "2.In a case of infinite recurssion we may run out of space resulting in stackoverflow\n",
    "\n",
    "Examples of recursive algorithms: fibonacci series, factorial finding, merge-sort, quick-sort, binary-search,tree traversals etc\n",
    "    "
   ]
  },
  {
   "cell_type": "code",
   "execution_count": 4,
   "id": "178e0c6f-c091-4ff6-b26d-e5854f091a95",
   "metadata": {},
   "outputs": [],
   "source": [
    "\n",
    "def TowerOfHanoi(n , source, destination, auxiliary):\n",
    "    \n",
    "    \n",
    "    if n==1: #base case\n",
    "    \n",
    "        print ( \"Move disk 1 from source\",source,\"to destination\",destination)\n",
    "        return \n",
    "    \n",
    "    TowerOfHanoi(n-1, source, auxiliary, destination)#recursive step\n",
    "    print ( \"Move disk\",n,\"from source\",source,\"to destination\",destination)\n",
    "   \n",
    "    TowerOfHanoi(n-1, auxiliary, destination, source)#recursive step\n"
   ]
  },
  {
   "cell_type": "code",
   "execution_count": 5,
   "id": "b8e2dc6b-3cb1-4156-bc81-f2e698bc9fd5",
   "metadata": {},
   "outputs": [
    {
     "name": "stdout",
     "output_type": "stream",
     "text": [
      "Move disk 1 from source A to destination B\n",
      "Move disk 2 from source A to destination C\n",
      "Move disk 1 from source B to destination C\n",
      "Move disk 3 from source A to destination B\n",
      "Move disk 1 from source C to destination A\n",
      "Move disk 2 from source C to destination B\n",
      "Move disk 1 from source A to destination B\n"
     ]
    }
   ],
   "source": [
    "n = 3\n",
    "TowerOfHanoi(n,'A','B','C')"
   ]
  },
  {
   "cell_type": "code",
   "execution_count": null,
   "id": "887ffae1-ce0c-47ce-9cd0-b93ffee91f75",
   "metadata": {},
   "outputs": [],
   "source": []
  }
 ],
 "metadata": {
  "kernelspec": {
   "display_name": "Python 3 (ipykernel)",
   "language": "python",
   "name": "python3"
  },
  "language_info": {
   "codemirror_mode": {
    "name": "ipython",
    "version": 3
   },
   "file_extension": ".py",
   "mimetype": "text/x-python",
   "name": "python",
   "nbconvert_exporter": "python",
   "pygments_lexer": "ipython3",
   "version": "3.9.12"
  },
  "toc-autonumbering": true,
  "toc-showcode": true,
  "toc-showmarkdowntxt": true,
  "toc-showtags": false
 },
 "nbformat": 4,
 "nbformat_minor": 5
}
